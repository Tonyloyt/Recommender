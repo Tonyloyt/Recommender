{
 "cells": [
  {
   "cell_type": "markdown",
   "metadata": {},
   "source": [
    "# Matrix Factorization"
   ]
  },
  {
   "cell_type": "code",
   "execution_count": 1,
   "metadata": {},
   "outputs": [],
   "source": [
    "import pandas as pd\n",
    "import numpy as np\n",
    "import matplotlib as plt\n",
    "\n",
    "from collections import Counter\n",
    "from sklearn.utils import shuffle\n",
    "from sortedcontainers import SortedList"
   ]
  },
  {
   "cell_type": "markdown",
   "metadata": {},
   "source": [
    "## 1. Loading the data"
   ]
  },
  {
   "cell_type": "code",
   "execution_count": 2,
   "metadata": {},
   "outputs": [
    {
     "data": {
      "text/plain": [
       "20000263"
      ]
     },
     "execution_count": 2,
     "metadata": {},
     "output_type": "execute_result"
    }
   ],
   "source": [
    "df = pd.read_csv('data/rating.csv')\n",
    "len(df)"
   ]
  },
  {
   "cell_type": "code",
   "execution_count": 3,
   "metadata": {},
   "outputs": [
    {
     "data": {
      "text/html": [
       "<div>\n",
       "<style scoped>\n",
       "    .dataframe tbody tr th:only-of-type {\n",
       "        vertical-align: middle;\n",
       "    }\n",
       "\n",
       "    .dataframe tbody tr th {\n",
       "        vertical-align: top;\n",
       "    }\n",
       "\n",
       "    .dataframe thead th {\n",
       "        text-align: right;\n",
       "    }\n",
       "</style>\n",
       "<table border=\"1\" class=\"dataframe\">\n",
       "  <thead>\n",
       "    <tr style=\"text-align: right;\">\n",
       "      <th></th>\n",
       "      <th>movieId</th>\n",
       "      <th>title</th>\n",
       "      <th>genres</th>\n",
       "    </tr>\n",
       "  </thead>\n",
       "  <tbody>\n",
       "    <tr>\n",
       "      <th>0</th>\n",
       "      <td>1</td>\n",
       "      <td>Toy Story (1995)</td>\n",
       "      <td>Adventure|Animation|Children|Comedy|Fantasy</td>\n",
       "    </tr>\n",
       "    <tr>\n",
       "      <th>1</th>\n",
       "      <td>2</td>\n",
       "      <td>Jumanji (1995)</td>\n",
       "      <td>Adventure|Children|Fantasy</td>\n",
       "    </tr>\n",
       "    <tr>\n",
       "      <th>2</th>\n",
       "      <td>3</td>\n",
       "      <td>Grumpier Old Men (1995)</td>\n",
       "      <td>Comedy|Romance</td>\n",
       "    </tr>\n",
       "    <tr>\n",
       "      <th>3</th>\n",
       "      <td>4</td>\n",
       "      <td>Waiting to Exhale (1995)</td>\n",
       "      <td>Comedy|Drama|Romance</td>\n",
       "    </tr>\n",
       "    <tr>\n",
       "      <th>4</th>\n",
       "      <td>5</td>\n",
       "      <td>Father of the Bride Part II (1995)</td>\n",
       "      <td>Comedy</td>\n",
       "    </tr>\n",
       "  </tbody>\n",
       "</table>\n",
       "</div>"
      ],
      "text/plain": [
       "   movieId                               title  \\\n",
       "0        1                    Toy Story (1995)   \n",
       "1        2                      Jumanji (1995)   \n",
       "2        3             Grumpier Old Men (1995)   \n",
       "3        4            Waiting to Exhale (1995)   \n",
       "4        5  Father of the Bride Part II (1995)   \n",
       "\n",
       "                                        genres  \n",
       "0  Adventure|Animation|Children|Comedy|Fantasy  \n",
       "1                   Adventure|Children|Fantasy  \n",
       "2                               Comedy|Romance  \n",
       "3                         Comedy|Drama|Romance  \n",
       "4                                       Comedy  "
      ]
     },
     "execution_count": 3,
     "metadata": {},
     "output_type": "execute_result"
    }
   ],
   "source": [
    "mo = pd.read_csv('data/movie.csv')\n",
    "mo.head()"
   ]
  },
  {
   "cell_type": "code",
   "execution_count": 8,
   "metadata": {},
   "outputs": [
    {
     "data": {
      "text/html": [
       "<div>\n",
       "<style scoped>\n",
       "    .dataframe tbody tr th:only-of-type {\n",
       "        vertical-align: middle;\n",
       "    }\n",
       "\n",
       "    .dataframe tbody tr th {\n",
       "        vertical-align: top;\n",
       "    }\n",
       "\n",
       "    .dataframe thead th {\n",
       "        text-align: right;\n",
       "    }\n",
       "</style>\n",
       "<table border=\"1\" class=\"dataframe\">\n",
       "  <thead>\n",
       "    <tr style=\"text-align: right;\">\n",
       "      <th></th>\n",
       "      <th>userId</th>\n",
       "      <th>movieId</th>\n",
       "      <th>rating</th>\n",
       "      <th>timestamp</th>\n",
       "      <th>title</th>\n",
       "      <th>genres</th>\n",
       "    </tr>\n",
       "  </thead>\n",
       "  <tbody>\n",
       "    <tr>\n",
       "      <th>0</th>\n",
       "      <td>1</td>\n",
       "      <td>2</td>\n",
       "      <td>3.5</td>\n",
       "      <td>2005-04-02 23:53:47</td>\n",
       "      <td>Jumanji (1995)</td>\n",
       "      <td>Adventure|Children|Fantasy</td>\n",
       "    </tr>\n",
       "    <tr>\n",
       "      <th>1</th>\n",
       "      <td>5</td>\n",
       "      <td>2</td>\n",
       "      <td>3.0</td>\n",
       "      <td>1996-12-25 15:26:09</td>\n",
       "      <td>Jumanji (1995)</td>\n",
       "      <td>Adventure|Children|Fantasy</td>\n",
       "    </tr>\n",
       "    <tr>\n",
       "      <th>2</th>\n",
       "      <td>13</td>\n",
       "      <td>2</td>\n",
       "      <td>3.0</td>\n",
       "      <td>1996-11-27 08:19:02</td>\n",
       "      <td>Jumanji (1995)</td>\n",
       "      <td>Adventure|Children|Fantasy</td>\n",
       "    </tr>\n",
       "    <tr>\n",
       "      <th>3</th>\n",
       "      <td>29</td>\n",
       "      <td>2</td>\n",
       "      <td>3.0</td>\n",
       "      <td>1996-06-23 20:36:14</td>\n",
       "      <td>Jumanji (1995)</td>\n",
       "      <td>Adventure|Children|Fantasy</td>\n",
       "    </tr>\n",
       "    <tr>\n",
       "      <th>4</th>\n",
       "      <td>34</td>\n",
       "      <td>2</td>\n",
       "      <td>3.0</td>\n",
       "      <td>1996-10-28 13:29:44</td>\n",
       "      <td>Jumanji (1995)</td>\n",
       "      <td>Adventure|Children|Fantasy</td>\n",
       "    </tr>\n",
       "  </tbody>\n",
       "</table>\n",
       "</div>"
      ],
      "text/plain": [
       "   userId  movieId  rating            timestamp           title  \\\n",
       "0       1        2     3.5  2005-04-02 23:53:47  Jumanji (1995)   \n",
       "1       5        2     3.0  1996-12-25 15:26:09  Jumanji (1995)   \n",
       "2      13        2     3.0  1996-11-27 08:19:02  Jumanji (1995)   \n",
       "3      29        2     3.0  1996-06-23 20:36:14  Jumanji (1995)   \n",
       "4      34        2     3.0  1996-10-28 13:29:44  Jumanji (1995)   \n",
       "\n",
       "                       genres  \n",
       "0  Adventure|Children|Fantasy  \n",
       "1  Adventure|Children|Fantasy  \n",
       "2  Adventure|Children|Fantasy  \n",
       "3  Adventure|Children|Fantasy  \n",
       "4  Adventure|Children|Fantasy  "
      ]
     },
     "execution_count": 8,
     "metadata": {},
     "output_type": "execute_result"
    }
   ],
   "source": [
    "# Joing the two data frame\n",
    "df2 = pd.merge(df, mo, how = 'inner', on = ['movieId'])\n",
    "df2.head()"
   ]
  },
  {
   "cell_type": "code",
   "execution_count": 9,
   "metadata": {},
   "outputs": [
    {
     "data": {
      "text/html": [
       "<div>\n",
       "<style scoped>\n",
       "    .dataframe tbody tr th:only-of-type {\n",
       "        vertical-align: middle;\n",
       "    }\n",
       "\n",
       "    .dataframe tbody tr th {\n",
       "        vertical-align: top;\n",
       "    }\n",
       "\n",
       "    .dataframe thead th {\n",
       "        text-align: right;\n",
       "    }\n",
       "</style>\n",
       "<table border=\"1\" class=\"dataframe\">\n",
       "  <thead>\n",
       "    <tr style=\"text-align: right;\">\n",
       "      <th></th>\n",
       "      <th>userId</th>\n",
       "      <th>movieId</th>\n",
       "      <th>rating</th>\n",
       "      <th>title</th>\n",
       "    </tr>\n",
       "  </thead>\n",
       "  <tbody>\n",
       "    <tr>\n",
       "      <th>0</th>\n",
       "      <td>1</td>\n",
       "      <td>2</td>\n",
       "      <td>3.5</td>\n",
       "      <td>Jumanji (1995)</td>\n",
       "    </tr>\n",
       "    <tr>\n",
       "      <th>1</th>\n",
       "      <td>5</td>\n",
       "      <td>2</td>\n",
       "      <td>3.0</td>\n",
       "      <td>Jumanji (1995)</td>\n",
       "    </tr>\n",
       "    <tr>\n",
       "      <th>2</th>\n",
       "      <td>13</td>\n",
       "      <td>2</td>\n",
       "      <td>3.0</td>\n",
       "      <td>Jumanji (1995)</td>\n",
       "    </tr>\n",
       "    <tr>\n",
       "      <th>3</th>\n",
       "      <td>29</td>\n",
       "      <td>2</td>\n",
       "      <td>3.0</td>\n",
       "      <td>Jumanji (1995)</td>\n",
       "    </tr>\n",
       "    <tr>\n",
       "      <th>4</th>\n",
       "      <td>34</td>\n",
       "      <td>2</td>\n",
       "      <td>3.0</td>\n",
       "      <td>Jumanji (1995)</td>\n",
       "    </tr>\n",
       "  </tbody>\n",
       "</table>\n",
       "</div>"
      ],
      "text/plain": [
       "   userId  movieId  rating           title\n",
       "0       1        2     3.5  Jumanji (1995)\n",
       "1       5        2     3.0  Jumanji (1995)\n",
       "2      13        2     3.0  Jumanji (1995)\n",
       "3      29        2     3.0  Jumanji (1995)\n",
       "4      34        2     3.0  Jumanji (1995)"
      ]
     },
     "execution_count": 9,
     "metadata": {},
     "output_type": "execute_result"
    }
   ],
   "source": [
    "df2 = df2.drop(columns = ['timestamp', 'genres'])\n",
    "df2.head()"
   ]
  },
  {
   "cell_type": "code",
   "execution_count": 10,
   "metadata": {},
   "outputs": [
    {
     "data": {
      "text/html": [
       "<div>\n",
       "<style scoped>\n",
       "    .dataframe tbody tr th:only-of-type {\n",
       "        vertical-align: middle;\n",
       "    }\n",
       "\n",
       "    .dataframe tbody tr th {\n",
       "        vertical-align: top;\n",
       "    }\n",
       "\n",
       "    .dataframe thead th {\n",
       "        text-align: right;\n",
       "    }\n",
       "</style>\n",
       "<table border=\"1\" class=\"dataframe\">\n",
       "  <thead>\n",
       "    <tr style=\"text-align: right;\">\n",
       "      <th></th>\n",
       "      <th>userId</th>\n",
       "      <th>movieId</th>\n",
       "      <th>rating</th>\n",
       "      <th>title</th>\n",
       "    </tr>\n",
       "  </thead>\n",
       "  <tbody>\n",
       "    <tr>\n",
       "      <th>0</th>\n",
       "      <td>0</td>\n",
       "      <td>2</td>\n",
       "      <td>3.5</td>\n",
       "      <td>Jumanji (1995)</td>\n",
       "    </tr>\n",
       "    <tr>\n",
       "      <th>1</th>\n",
       "      <td>4</td>\n",
       "      <td>2</td>\n",
       "      <td>3.0</td>\n",
       "      <td>Jumanji (1995)</td>\n",
       "    </tr>\n",
       "    <tr>\n",
       "      <th>2</th>\n",
       "      <td>12</td>\n",
       "      <td>2</td>\n",
       "      <td>3.0</td>\n",
       "      <td>Jumanji (1995)</td>\n",
       "    </tr>\n",
       "    <tr>\n",
       "      <th>3</th>\n",
       "      <td>28</td>\n",
       "      <td>2</td>\n",
       "      <td>3.0</td>\n",
       "      <td>Jumanji (1995)</td>\n",
       "    </tr>\n",
       "    <tr>\n",
       "      <th>4</th>\n",
       "      <td>33</td>\n",
       "      <td>2</td>\n",
       "      <td>3.0</td>\n",
       "      <td>Jumanji (1995)</td>\n",
       "    </tr>\n",
       "  </tbody>\n",
       "</table>\n",
       "</div>"
      ],
      "text/plain": [
       "   userId  movieId  rating           title\n",
       "0       0        2     3.5  Jumanji (1995)\n",
       "1       4        2     3.0  Jumanji (1995)\n",
       "2      12        2     3.0  Jumanji (1995)\n",
       "3      28        2     3.0  Jumanji (1995)\n",
       "4      33        2     3.0  Jumanji (1995)"
      ]
     },
     "execution_count": 10,
     "metadata": {},
     "output_type": "execute_result"
    }
   ],
   "source": [
    "# Make the user Id starts from 0 \n",
    "df2.userId -= 1\n",
    "df2.head()"
   ]
  },
  {
   "cell_type": "markdown",
   "metadata": {},
   "source": [
    "## 2. Preprocessing "
   ]
  },
  {
   "cell_type": "markdown",
   "metadata": {},
   "source": [
    "### 2-1. Sub sampling "
   ]
  },
  {
   "cell_type": "code",
   "execution_count": 12,
   "metadata": {},
   "outputs": [
    {
     "name": "stdout",
     "output_type": "stream",
     "text": [
      "The number of samples of the data is  20000263\n"
     ]
    }
   ],
   "source": [
    "print(\"The number of samples of the data is \", len(df2))"
   ]
  },
  {
   "cell_type": "markdown",
   "metadata": {},
   "source": [
    "I'm going to extract the most meaningful dataframe here. The users and movies that have many ranking rates. "
   ]
  },
  {
   "cell_type": "code",
   "execution_count": 13,
   "metadata": {},
   "outputs": [
    {
     "name": "stdout",
     "output_type": "stream",
     "text": [
      "The number of Users is  138493\n",
      "The number of Movies is  26730\n"
     ]
    }
   ],
   "source": [
    "N = df2.userId.max() + 1\n",
    "M = df2.title.nunique() + 1\n",
    "print(\"The number of Users is \", N)\n",
    "print(\"The number of Movies is \", M)"
   ]
  },
  {
   "cell_type": "code",
   "execution_count": 14,
   "metadata": {},
   "outputs": [],
   "source": [
    "user_ids_count = Counter(df2.userId)\n",
    "movie_ids_count = Counter(df2.title)"
   ]
  },
  {
   "cell_type": "markdown",
   "metadata": {},
   "source": [
    "The outcome of `Counter()` will be **'column value : count_number'**. So I'll take only the column values of the most common ones "
   ]
  },
  {
   "cell_type": "code",
   "execution_count": 15,
   "metadata": {},
   "outputs": [],
   "source": [
    "# Choose the numbers to subset \n",
    "n = 10000\n",
    "m = 2000 \n",
    "\n",
    "user_ids = [col for col, idx in user_ids_count.most_common(n)]\n",
    "movie_ids = [col for col, idx in movie_ids_count.most_common(m)]"
   ]
  },
  {
   "cell_type": "markdown",
   "metadata": {},
   "source": [
    "`user_ids` and `movie_ids` are the list of the most common values in `df2`. I'm going to filter `df2` to keep the samples that appear in the two lists at the same time. "
   ]
  },
  {
   "cell_type": "code",
   "execution_count": 16,
   "metadata": {},
   "outputs": [],
   "source": [
    "# Filter the data \n",
    "df_sub = df2[df2.userId.isin(user_ids) & df2.title.isin(movie_ids)]"
   ]
  },
  {
   "cell_type": "code",
   "execution_count": 17,
   "metadata": {},
   "outputs": [
    {
     "data": {
      "text/html": [
       "<div>\n",
       "<style scoped>\n",
       "    .dataframe tbody tr th:only-of-type {\n",
       "        vertical-align: middle;\n",
       "    }\n",
       "\n",
       "    .dataframe tbody tr th {\n",
       "        vertical-align: top;\n",
       "    }\n",
       "\n",
       "    .dataframe thead th {\n",
       "        text-align: right;\n",
       "    }\n",
       "</style>\n",
       "<table border=\"1\" class=\"dataframe\">\n",
       "  <thead>\n",
       "    <tr style=\"text-align: right;\">\n",
       "      <th></th>\n",
       "      <th>userId</th>\n",
       "      <th>movieId</th>\n",
       "      <th>rating</th>\n",
       "      <th>title</th>\n",
       "    </tr>\n",
       "  </thead>\n",
       "  <tbody>\n",
       "    <tr>\n",
       "      <th>5</th>\n",
       "      <td>53</td>\n",
       "      <td>2</td>\n",
       "      <td>3.0</td>\n",
       "      <td>Jumanji (1995)</td>\n",
       "    </tr>\n",
       "    <tr>\n",
       "      <th>7</th>\n",
       "      <td>90</td>\n",
       "      <td>2</td>\n",
       "      <td>3.5</td>\n",
       "      <td>Jumanji (1995)</td>\n",
       "    </tr>\n",
       "    <tr>\n",
       "      <th>8</th>\n",
       "      <td>115</td>\n",
       "      <td>2</td>\n",
       "      <td>2.0</td>\n",
       "      <td>Jumanji (1995)</td>\n",
       "    </tr>\n",
       "    <tr>\n",
       "      <th>15</th>\n",
       "      <td>130</td>\n",
       "      <td>2</td>\n",
       "      <td>1.0</td>\n",
       "      <td>Jumanji (1995)</td>\n",
       "    </tr>\n",
       "    <tr>\n",
       "      <th>20</th>\n",
       "      <td>155</td>\n",
       "      <td>2</td>\n",
       "      <td>5.0</td>\n",
       "      <td>Jumanji (1995)</td>\n",
       "    </tr>\n",
       "  </tbody>\n",
       "</table>\n",
       "</div>"
      ],
      "text/plain": [
       "    userId  movieId  rating           title\n",
       "5       53        2     3.0  Jumanji (1995)\n",
       "7       90        2     3.5  Jumanji (1995)\n",
       "8      115        2     2.0  Jumanji (1995)\n",
       "15     130        2     1.0  Jumanji (1995)\n",
       "20     155        2     5.0  Jumanji (1995)"
      ]
     },
     "execution_count": 17,
     "metadata": {},
     "output_type": "execute_result"
    }
   ],
   "source": [
    "df_sub.head()"
   ]
  },
  {
   "cell_type": "markdown",
   "metadata": {},
   "source": [
    "### 2-2. Assigning new Id values to Users and Movies"
   ]
  },
  {
   "cell_type": "markdown",
   "metadata": {},
   "source": [
    "Now there are sparsity in the values of `userId` so I'd like to give the new index numbers to user Id and movie Id.   "
   ]
  },
  {
   "cell_type": "code",
   "execution_count": 18,
   "metadata": {},
   "outputs": [],
   "source": [
    "# Indexing the user list using dictionary\n",
    "user_dic = {}\n",
    "i = 0\n",
    "\n",
    "for k in user_ids:\n",
    "    user_dic[k] = i\n",
    "    i += 1"
   ]
  },
  {
   "cell_type": "code",
   "execution_count": 19,
   "metadata": {},
   "outputs": [],
   "source": [
    "# Indexing the user list using dictionary \n",
    "movie_dic = {}\n",
    "i = 0\n",
    "\n",
    "for k in movie_ids:\n",
    "    movie_dic[k] = i\n",
    "    i += 1"
   ]
  },
  {
   "cell_type": "markdown",
   "metadata": {},
   "source": [
    "Let's check the result and find the index of the movie *Minority Report (2002)*."
   ]
  },
  {
   "cell_type": "code",
   "execution_count": 20,
   "metadata": {},
   "outputs": [
    {
     "data": {
      "text/plain": [
       "108"
      ]
     },
     "execution_count": 20,
     "metadata": {},
     "output_type": "execute_result"
    }
   ],
   "source": [
    "# Check the result\n",
    "movie_dic['Minority Report (2002)']"
   ]
  },
  {
   "cell_type": "code",
   "execution_count": 21,
   "metadata": {},
   "outputs": [
    {
     "data": {
      "text/html": [
       "<div>\n",
       "<style scoped>\n",
       "    .dataframe tbody tr th:only-of-type {\n",
       "        vertical-align: middle;\n",
       "    }\n",
       "\n",
       "    .dataframe tbody tr th {\n",
       "        vertical-align: top;\n",
       "    }\n",
       "\n",
       "    .dataframe thead th {\n",
       "        text-align: right;\n",
       "    }\n",
       "</style>\n",
       "<table border=\"1\" class=\"dataframe\">\n",
       "  <thead>\n",
       "    <tr style=\"text-align: right;\">\n",
       "      <th></th>\n",
       "      <th>userId</th>\n",
       "      <th>movieId</th>\n",
       "      <th>rating</th>\n",
       "      <th>title</th>\n",
       "    </tr>\n",
       "  </thead>\n",
       "  <tbody>\n",
       "    <tr>\n",
       "      <th>5</th>\n",
       "      <td>53</td>\n",
       "      <td>2</td>\n",
       "      <td>3.0</td>\n",
       "      <td>Jumanji (1995)</td>\n",
       "    </tr>\n",
       "    <tr>\n",
       "      <th>7</th>\n",
       "      <td>90</td>\n",
       "      <td>2</td>\n",
       "      <td>3.5</td>\n",
       "      <td>Jumanji (1995)</td>\n",
       "    </tr>\n",
       "    <tr>\n",
       "      <th>8</th>\n",
       "      <td>115</td>\n",
       "      <td>2</td>\n",
       "      <td>2.0</td>\n",
       "      <td>Jumanji (1995)</td>\n",
       "    </tr>\n",
       "    <tr>\n",
       "      <th>15</th>\n",
       "      <td>130</td>\n",
       "      <td>2</td>\n",
       "      <td>1.0</td>\n",
       "      <td>Jumanji (1995)</td>\n",
       "    </tr>\n",
       "    <tr>\n",
       "      <th>20</th>\n",
       "      <td>155</td>\n",
       "      <td>2</td>\n",
       "      <td>5.0</td>\n",
       "      <td>Jumanji (1995)</td>\n",
       "    </tr>\n",
       "  </tbody>\n",
       "</table>\n",
       "</div>"
      ],
      "text/plain": [
       "    userId  movieId  rating           title\n",
       "5       53        2     3.0  Jumanji (1995)\n",
       "7       90        2     3.5  Jumanji (1995)\n",
       "8      115        2     2.0  Jumanji (1995)\n",
       "15     130        2     1.0  Jumanji (1995)\n",
       "20     155        2     5.0  Jumanji (1995)"
      ]
     },
     "execution_count": 21,
     "metadata": {},
     "output_type": "execute_result"
    }
   ],
   "source": [
    "df_sub.head()"
   ]
  },
  {
   "cell_type": "code",
   "execution_count": 22,
   "metadata": {},
   "outputs": [
    {
     "name": "stderr",
     "output_type": "stream",
     "text": [
      "C:\\Users\\jjone\\Anaconda3\\lib\\site-packages\\ipykernel_launcher.py:1: SettingWithCopyWarning: \n",
      "A value is trying to be set on a copy of a slice from a DataFrame.\n",
      "Try using .loc[row_indexer,col_indexer] = value instead\n",
      "\n",
      "See the caveats in the documentation: http://pandas.pydata.org/pandas-docs/stable/indexing.html#indexing-view-versus-copy\n",
      "  \"\"\"Entry point for launching an IPython kernel.\n",
      "C:\\Users\\jjone\\Anaconda3\\lib\\site-packages\\ipykernel_launcher.py:2: SettingWithCopyWarning: \n",
      "A value is trying to be set on a copy of a slice from a DataFrame.\n",
      "Try using .loc[row_indexer,col_indexer] = value instead\n",
      "\n",
      "See the caveats in the documentation: http://pandas.pydata.org/pandas-docs/stable/indexing.html#indexing-view-versus-copy\n",
      "  \n"
     ]
    }
   ],
   "source": [
    "df_sub['user_idx'] = df_sub.userId.apply(lambda x: user_dic[x])\n",
    "df_sub['movie_idx'] = df_sub.title.apply(lambda x: movie_dic[x])"
   ]
  },
  {
   "cell_type": "code",
   "execution_count": 23,
   "metadata": {},
   "outputs": [
    {
     "data": {
      "text/html": [
       "<div>\n",
       "<style scoped>\n",
       "    .dataframe tbody tr th:only-of-type {\n",
       "        vertical-align: middle;\n",
       "    }\n",
       "\n",
       "    .dataframe tbody tr th {\n",
       "        vertical-align: top;\n",
       "    }\n",
       "\n",
       "    .dataframe thead th {\n",
       "        text-align: right;\n",
       "    }\n",
       "</style>\n",
       "<table border=\"1\" class=\"dataframe\">\n",
       "  <thead>\n",
       "    <tr style=\"text-align: right;\">\n",
       "      <th></th>\n",
       "      <th>userId</th>\n",
       "      <th>movieId</th>\n",
       "      <th>rating</th>\n",
       "      <th>title</th>\n",
       "      <th>user_idx</th>\n",
       "      <th>movie_idx</th>\n",
       "    </tr>\n",
       "  </thead>\n",
       "  <tbody>\n",
       "    <tr>\n",
       "      <th>0</th>\n",
       "      <td>53</td>\n",
       "      <td>2</td>\n",
       "      <td>3.0</td>\n",
       "      <td>Jumanji (1995)</td>\n",
       "      <td>3863</td>\n",
       "      <td>125</td>\n",
       "    </tr>\n",
       "    <tr>\n",
       "      <th>1</th>\n",
       "      <td>90</td>\n",
       "      <td>2</td>\n",
       "      <td>3.5</td>\n",
       "      <td>Jumanji (1995)</td>\n",
       "      <td>4358</td>\n",
       "      <td>125</td>\n",
       "    </tr>\n",
       "    <tr>\n",
       "      <th>2</th>\n",
       "      <td>115</td>\n",
       "      <td>2</td>\n",
       "      <td>2.0</td>\n",
       "      <td>Jumanji (1995)</td>\n",
       "      <td>1404</td>\n",
       "      <td>125</td>\n",
       "    </tr>\n",
       "    <tr>\n",
       "      <th>3</th>\n",
       "      <td>130</td>\n",
       "      <td>2</td>\n",
       "      <td>1.0</td>\n",
       "      <td>Jumanji (1995)</td>\n",
       "      <td>9442</td>\n",
       "      <td>125</td>\n",
       "    </tr>\n",
       "    <tr>\n",
       "      <th>4</th>\n",
       "      <td>155</td>\n",
       "      <td>2</td>\n",
       "      <td>5.0</td>\n",
       "      <td>Jumanji (1995)</td>\n",
       "      <td>190</td>\n",
       "      <td>125</td>\n",
       "    </tr>\n",
       "  </tbody>\n",
       "</table>\n",
       "</div>"
      ],
      "text/plain": [
       "   userId  movieId  rating           title  user_idx  movie_idx\n",
       "0      53        2     3.0  Jumanji (1995)      3863        125\n",
       "1      90        2     3.5  Jumanji (1995)      4358        125\n",
       "2     115        2     2.0  Jumanji (1995)      1404        125\n",
       "3     130        2     1.0  Jumanji (1995)      9442        125\n",
       "4     155        2     5.0  Jumanji (1995)       190        125"
      ]
     },
     "execution_count": 23,
     "metadata": {},
     "output_type": "execute_result"
    }
   ],
   "source": [
    "df_sub = df_sub.reset_index(drop = True)\n",
    "df_sub.head()"
   ]
  },
  {
   "cell_type": "markdown",
   "metadata": {},
   "source": [
    "### 2-3. Splitting into train and test set"
   ]
  },
  {
   "cell_type": "code",
   "execution_count": 24,
   "metadata": {},
   "outputs": [],
   "source": [
    "cut = int(0.8*len(df_sub))\n",
    "\n",
    "df_sub = shuffle(df_sub)\n",
    "tr = df_sub.iloc[:cut]\n",
    "te = df_sub.iloc[cut:]"
   ]
  },
  {
   "cell_type": "code",
   "execution_count": 25,
   "metadata": {},
   "outputs": [],
   "source": [
    "tr = tr.reset_index(drop = True)\n",
    "te = te.reset_index(drop = True)"
   ]
  },
  {
   "cell_type": "code",
   "execution_count": 26,
   "metadata": {},
   "outputs": [
    {
     "name": "stdout",
     "output_type": "stream",
     "text": [
      "The size of train :  4314019\n",
      "The size of test :  1078505\n"
     ]
    }
   ],
   "source": [
    "print(\"The size of train : \", len(tr))\n",
    "print(\"The size of test : \", len(te))"
   ]
  },
  {
   "cell_type": "markdown",
   "metadata": {},
   "source": [
    "### 2-4. Creating dictionary for user, movie and rating"
   ]
  },
  {
   "cell_type": "markdown",
   "metadata": {},
   "source": [
    "Now I'd like to make it possible to look up what movie each user gave ratings simply and vise versa. "
   ]
  },
  {
   "cell_type": "code",
   "execution_count": 27,
   "metadata": {},
   "outputs": [],
   "source": [
    "user_to_movie = {}\n",
    "movie_to_user = {}\n",
    "um_to_rating = {}\n",
    "\n",
    "def making_dic(x):\n",
    "    \n",
    "    a = int(x.user_idx)\n",
    "    m = int(x.movie_idx)\n",
    "    r = x.rating\n",
    "    \n",
    "    # make a dictionary for \"user to movie\" \n",
    "    if a not in user_to_movie:\n",
    "        user_to_movie[a] = [m]\n",
    "    else:\n",
    "        user_to_movie[a].append(m)\n",
    "        \n",
    "    # make a dictionary for \"movie to user\"\n",
    "    if m not in movie_to_user:\n",
    "        movie_to_user[m] = [a]\n",
    "    else:\n",
    "        movie_to_user[m].append(a)\n",
    "        \n",
    "    # make rating dictionary\n",
    "    um_to_rating[(a, m)] = r"
   ]
  },
  {
   "cell_type": "code",
   "execution_count": 28,
   "metadata": {
    "scrolled": true
   },
   "outputs": [],
   "source": [
    "temp = tr.apply(making_dic, axis = 1)"
   ]
  },
  {
   "cell_type": "markdown",
   "metadata": {},
   "source": [
    "As test set has no ratings (we're predicting it), it has to be processed without rating. "
   ]
  },
  {
   "cell_type": "code",
   "execution_count": 29,
   "metadata": {},
   "outputs": [],
   "source": [
    "um_to_rating_te = {}\n",
    "\n",
    "def making_dic_te(x):\n",
    "    \n",
    "    a = int(x.user_idx)\n",
    "    m = int(x.movie_idx)\n",
    "    r = x.rating \n",
    "    \n",
    "    um_to_rating_te[(a, m)] = r"
   ]
  },
  {
   "cell_type": "code",
   "execution_count": 30,
   "metadata": {
    "scrolled": true
   },
   "outputs": [],
   "source": [
    "temp = te.apply(making_dic_te, axis = 1)"
   ]
  },
  {
   "cell_type": "code",
   "execution_count": 31,
   "metadata": {},
   "outputs": [],
   "source": [
    "# Number of users\n",
    "N = np.max(list(user_to_movie.keys())) + 1 \n",
    "\n",
    "# Number of movies from the train set\n",
    "m1 = np.max(list(movie_to_user.keys()))\n",
    "\n",
    "# Number of movies from the test set\n",
    "m2 = np.max([m for (a, m), r in list(um_to_rating_te.items())])\n",
    "\n",
    "# Total Number of movies both from train & test\n",
    "M = max(m1, m2) + 1"
   ]
  },
  {
   "cell_type": "code",
   "execution_count": null,
   "metadata": {},
   "outputs": [],
   "source": []
  },
  {
   "cell_type": "markdown",
   "metadata": {},
   "source": [
    "## 3. Matrix Factorization"
   ]
  },
  {
   "cell_type": "code",
   "execution_count": 35,
   "metadata": {},
   "outputs": [],
   "source": [
    "K = 10         # latent dimensionality\n",
    "# parameters for user \n",
    "W = np.random.randn(N, K)\n",
    "b = np.zeros(N)\n",
    "\n",
    "# parameters for movies \n",
    "U = np.random.randn(M, K)\n",
    "c = np.zeros(M)\n",
    "\n",
    "mu = np.mean(list(um_to_rating.values()))"
   ]
  },
  {
   "cell_type": "code",
   "execution_count": 36,
   "metadata": {},
   "outputs": [],
   "source": [
    "# Defind objectives\n",
    "def get_loss(X):\n",
    "    \"\"\"\n",
    "    input : X = the all pairs of (user_id, movie_id)\n",
    "            sse = sum of squared error\n",
    "    output : mse = sse / n \n",
    "    \"\"\"\n",
    "    n = float(len(X))      # n = the number of X\n",
    "    sse = 0\n",
    "    \n",
    "    for k, r in X.items():\n",
    "        a, b = k           # user, item\n",
    "        actual = r         # actual rating\n",
    "        pred = W[a].dot(U[b]) + b[a] + c[b] + mu\n",
    "        sse += (pred - actual)**2\n",
    "    return sse / n"
   ]
  },
  {
   "cell_type": "code",
   "execution_count": 38,
   "metadata": {},
   "outputs": [],
   "source": [
    "epochs = 20\n",
    "reg = 20.      # regularization penalty\n",
    "tr_loss = []\n",
    "te_loss = []\n",
    "\n",
    "for epoch in range(epochs):\n",
    "    \n",
    "    # 1. Train W parameter for all users\n",
    "    # for each user a, for each movie b\n",
    "    for a in range(N):\n",
    "        matrix = np.eye(K)\n",
    "        vector = np.zeros(K)\n",
    "        \n",
    "        b_a = 0                          # initialize user bias\n",
    "        pie = len(user_to_movie[a])      # the number of movies that user a rated\n",
    "        # for each movie that user a has rated\n",
    "        for b in user_to_movie[a]:\n",
    "            r = um_to_rating[(a, b)]\n",
    "            matrix += np.outer(U[b], U[b])\n",
    "            vector += (r - b[a] - c[b] - mu)*U[b]\n",
    "            b_a += (r - W[a].dot(U[b]) - c[b] - mu)\n",
    "            \n",
    "        # update the parameter\n",
    "        W[a] = np.linalg.solve(matrix, vector)\n",
    "        b[a] = b_a / (pie + reg)\n",
    "    \n",
    "    # 2. Train U parameter for all movies\n",
    "    # alternative updating \n",
    "    for b in range(M):\n",
    "        matrix = np.eye(K) * reg\n",
    "        vector = np.zeros(K)\n",
    "        \n",
    "        c_b = 0                           # initialize user bias\n",
    "        omga = len(movie_to_user[b])      # the number of users who rated movie b\n",
    "        try:\n",
    "            for a in movie_to_user[b]:\n",
    "                r = um_to_rating[(a, b)]\n",
    "                matrix += np.outer(W[a], W[a])\n",
    "                vector += (r - b[a] - c[b] - mu)*W[a]\n",
    "                c_b += (r - W[a].dot(U[b]) - b[a] - mu)\n",
    "                \n",
    "            U[b] = np.linalg.solve(matrix, vector)\n",
    "            c[b] = c_b / (omga + reg) \n",
    "        except KeyError:\n",
    "            # for a movie which have no rating \n",
    "            pass\n",
    "    \n",
    "    # 3. Compute the loss for each epoch\n",
    "    loss = get_loss(um_to_rating)\n",
    "    tr_loss.append(loss)\n",
    "    \n",
    "    test_loss = get_loss(um_to_rating_te)\n",
    "    te_loss.append(loss)\n",
    "\n",
    "    print(\"Train loss: {} for {} epoch\".format(tr_loss[-1], epoch))\n",
    "    print(\"Test loss: {} for {} epoch\".format(te_loss[-1], epoch)"
   ]
  },
  {
   "cell_type": "code",
   "execution_count": null,
   "metadata": {},
   "outputs": [],
   "source": [
    "print(\"Total Train loss: \", tr_loss)\n",
    "print(\"Total test loss: \", te_loss)"
   ]
  },
  {
   "cell_type": "code",
   "execution_count": null,
   "metadata": {},
   "outputs": [],
   "source": [
    "# Plot the losses \n",
    "plt.plot(tr_losses, label = 'train loss')\n",
    "plt.plot(te_loss, label = 'test loss')\n",
    "plt.legend()\n",
    "plt.show()"
   ]
  },
  {
   "cell_type": "code",
   "execution_count": null,
   "metadata": {},
   "outputs": [],
   "source": []
  },
  {
   "cell_type": "code",
   "execution_count": null,
   "metadata": {},
   "outputs": [],
   "source": []
  },
  {
   "cell_type": "code",
   "execution_count": null,
   "metadata": {},
   "outputs": [],
   "source": []
  }
 ],
 "metadata": {
  "kernelspec": {
   "display_name": "Python 3",
   "language": "python",
   "name": "python3"
  },
  "language_info": {
   "codemirror_mode": {
    "name": "ipython",
    "version": 3
   },
   "file_extension": ".py",
   "mimetype": "text/x-python",
   "name": "python",
   "nbconvert_exporter": "python",
   "pygments_lexer": "ipython3",
   "version": "3.7.0"
  }
 },
 "nbformat": 4,
 "nbformat_minor": 2
}
